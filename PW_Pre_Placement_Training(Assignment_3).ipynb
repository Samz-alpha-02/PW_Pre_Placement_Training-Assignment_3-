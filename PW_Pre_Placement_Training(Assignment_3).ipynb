{
  "cells": [
    {
      "cell_type": "code",
      "execution_count": null,
      "metadata": {
        "colab": {
          "base_uri": "https://localhost:8080/"
        },
        "id": "yZ2lG7UzljVZ",
        "outputId": "21612056-6247-4f70-edef-1b9bc0a33365"
      },
      "outputs": [
        {
          "name": "stdout",
          "output_type": "stream",
          "text": [
            "25\n"
          ]
        }
      ],
      "source": [
        "#Q1\n",
        "def threeSumClosest(nums, target):\n",
        "    nums.sort()\n",
        "    n = len(nums)\n",
        "    closestSum = float('inf')\n",
        "\n",
        "    for i in range(n - 2):\n",
        "        left = i + 1\n",
        "        right = n - 1\n",
        "\n",
        "        while left < right:\n",
        "            currentSum = nums[i] + nums[left] + nums[right]\n",
        "\n",
        "            if currentSum == target:\n",
        "                return currentSum\n",
        "\n",
        "            if abs(currentSum - target) < abs(closestSum - target):\n",
        "                closestSum = currentSum\n",
        "\n",
        "            if currentSum < target:\n",
        "                left += 1\n",
        "            else:\n",
        "                right -= 1\n",
        "\n",
        "    return closestSum\n",
        "\n",
        "result = threeSumClosest([2,5,7,-3,6,10,1,-4,8],29)\n",
        "print(result)"
      ]
    },
    {
      "cell_type": "code",
      "execution_count": null,
      "metadata": {
        "colab": {
          "base_uri": "https://localhost:8080/"
        },
        "id": "S0osfNsBp3zH",
        "outputId": "99c45706-ecc9-4317-9ec1-b25eead03c39"
      },
      "outputs": [
        {
          "name": "stdout",
          "output_type": "stream",
          "text": [
            "[-2, -1, 1, 2]\n",
            "[-2, 0, 0, 2]\n",
            "[-1, 0, 0, 1]\n"
          ]
        }
      ],
      "source": [
        "#Q2\n",
        "def fourSumClosest(nums, target):\n",
        "    new = sorted(nums)\n",
        "    n = len(new)\n",
        "    closestSum = float('inf')\n",
        "    lst = []\n",
        "\n",
        "    for i in range(n - 3):\n",
        "        for j in range(i + 1, n - 2):\n",
        "            left = j + 1\n",
        "            right = n - 1\n",
        "\n",
        "            while left < right:\n",
        "                currentSum = new[i] + new[j] + new[left] + new[right]\n",
        "\n",
        "                if currentSum == target:\n",
        "                    lst.append([new[i], new[j], new[left], new[right]])\n",
        "\n",
        "                if abs(currentSum - target) < abs(closestSum - target):\n",
        "                    closestSum = currentSum\n",
        "\n",
        "                if currentSum < target:\n",
        "                    left += 1\n",
        "                else:\n",
        "                    right -= 1\n",
        "\n",
        "    for quadruple in lst:\n",
        "        print(quadruple)\n",
        "\n",
        "result = fourSumClosest([1, 0, -1, 0, -2, 2], 0)\n"
      ]
    },
    {
      "cell_type": "code",
      "execution_count": null,
      "metadata": {
        "colab": {
          "base_uri": "https://localhost:8080/"
        },
        "id": "1_HsgM-dxBQ8",
        "outputId": "4ad60ac4-6bfe-4e96-a12f-d3e6843a7cf5"
      },
      "outputs": [
        {
          "name": "stdout",
          "output_type": "stream",
          "text": [
            "[1, 3, 2]\n"
          ]
        }
      ],
      "source": [
        "#Q3\n",
        "def nextPermutation(nums):\n",
        "    # Find the first pair of adjacent elements where nums[i] < nums[i+1]\n",
        "    i = len(nums) - 2\n",
        "    while i >= 0 and nums[i] >= nums[i + 1]:\n",
        "        i -= 1\n",
        "\n",
        "    if i >= 0:\n",
        "        # Find the smallest element greater than nums[i] in the subarray nums[i+1:]\n",
        "        j = len(nums) - 1\n",
        "        while j >= 0 and nums[j] <= nums[i]:\n",
        "            j -= 1\n",
        "        # Swap nums[i] and nums[j]\n",
        "        nums[i], nums[j] = nums[j], nums[i]\n",
        "\n",
        "    # Reverse the subarray nums[i+1:]\n",
        "    left = i + 1\n",
        "    right = len(nums) - 1\n",
        "    while left < right:\n",
        "        nums[left], nums[right] = nums[right], nums[left]\n",
        "        left += 1\n",
        "        right -= 1\n",
        "\n",
        "    return nums\n",
        "\n",
        "nums = [1,2,3]\n",
        "res = nextPermutation(nums)\n",
        "print(res)"
      ]
    },
    {
      "cell_type": "code",
      "execution_count": null,
      "metadata": {
        "colab": {
          "base_uri": "https://localhost:8080/"
        },
        "id": "QEv3FoSp_AO7",
        "outputId": "f5254115-26a2-4cb4-97f0-3e9a06c809d3"
      },
      "outputs": [
        {
          "name": "stdout",
          "output_type": "stream",
          "text": [
            "5\n",
            "[2, 4, 5, 6, 8, 9, 12, 100]\n",
            "2\n",
            "[1, 3, 5, 6]\n"
          ]
        }
      ],
      "source": [
        "#Q4\n",
        "def find_insert(nums, target):\n",
        "    low = 0\n",
        "    high = len(nums) - 1\n",
        "    k = 0\n",
        "\n",
        "    while low <= high:\n",
        "        mid = (low + high) // 2\n",
        "\n",
        "        if nums[mid] == target:\n",
        "            print(mid)\n",
        "            return nums\n",
        "\n",
        "        if target < nums[mid]:\n",
        "            high = mid - 1\n",
        "        else:\n",
        "            low = mid + 1\n",
        "\n",
        "    index = 0\n",
        "    while index < len(nums) and target > nums[index]:\n",
        "        index += 1\n",
        "    nums.insert(index, target)\n",
        "    print(index)\n",
        "    return nums\n",
        "\n",
        "\n",
        "res1 = find_insert([2, 4, 5, 6, 8, 12, 100], 9)\n",
        "print(res1)\n",
        "res2 = find_insert([1,3,5,6],5)\n",
        "print(res2)\n"
      ]
    },
    {
      "cell_type": "code",
      "execution_count": null,
      "metadata": {
        "colab": {
          "base_uri": "https://localhost:8080/"
        },
        "id": "WTqAB3IGaQ3n",
        "outputId": "be2d87db-84a6-4325-bcff-86beddd5246a"
      },
      "outputs": [
        {
          "name": "stdout",
          "output_type": "stream",
          "text": [
            "['1', '3', '0']\n"
          ]
        }
      ],
      "source": [
        "#Q5\n",
        "def increment(nums):\n",
        "  num = int(''.join(map(str, nums)))\n",
        "  res = str(num+1)\n",
        "  lst = list(''.join(map(str, res)))\n",
        "  return lst\n",
        "\n",
        "nums = [1,2,9]\n",
        "res = increment(nums)\n",
        "print(res)"
      ]
    },
    {
      "cell_type": "code",
      "execution_count": null,
      "metadata": {
        "colab": {
          "base_uri": "https://localhost:8080/"
        },
        "id": "YCS809wIdOS0",
        "outputId": "17149b48-e18a-4c0e-9af1-0ba1f9603e54"
      },
      "outputs": [
        {
          "name": "stdout",
          "output_type": "stream",
          "text": [
            "6\n"
          ]
        }
      ],
      "source": [
        "#Q6\n",
        "def multiple(nums):\n",
        "  k = 0\n",
        "  n = len(nums)\n",
        "  for i in nums:\n",
        "    k = nums.count(i)\n",
        "    if k==1:\n",
        "      return i\n",
        "\n",
        "nums = [2,2,5,4,4,3,2,5,4,6,8,8,9,9,3]\n",
        "res = multiple(nums)\n",
        "print(res)"
      ]
    },
    {
      "cell_type": "code",
      "execution_count": 9,
      "metadata": {
        "colab": {
          "base_uri": "https://localhost:8080/"
        },
        "id": "vdh77OrAhDBa",
        "outputId": "2edd21ba-fb92-4462-bf6b-25b16ba76525"
      },
      "outputs": [
        {
          "output_type": "stream",
          "name": "stdout",
          "text": [
            "['2', '4->49', '51->74', '76->99']\n"
          ]
        }
      ],
      "source": [
        "#Q7\n",
        "def findMissingRanges(nums, lower, upper):\n",
        "    missingRanges = []\n",
        "    prev = lower - 1\n",
        "\n",
        "    for num in nums + [upper + 1]:\n",
        "        if num - prev > 1:\n",
        "            missingRanges.append(formatRange(prev + 1, num - 1))\n",
        "        prev = num\n",
        "\n",
        "    return missingRanges\n",
        "\n",
        "def formatRange(start, end):\n",
        "    if start == end:\n",
        "        return str(start)\n",
        "    else:\n",
        "        return str(start) + \"->\" + str(end)\n",
        "\n",
        "# Example usage:\n",
        "nums = [0,1,3,50,75]\n",
        "lower = 0\n",
        "upper = 99\n",
        "result = findMissingRanges(nums, lower, upper)\n",
        "print(result)"
      ]
    },
    {
      "cell_type": "code",
      "source": [
        "#Q8\n",
        "def meet(interval):\n",
        "    for i in range(len(interval) - 1):\n",
        "        if interval[i+1][0] < interval[i][1]:\n",
        "            return False\n",
        "    return True\n",
        "\n",
        "interval1 = [[0,30],[5,10],[15,20]]\n",
        "result1 = meet(interval1)\n",
        "print(result1)\n",
        "interval2 = [[1, 3], [4, 6], [8, 10]]\n",
        "result2 = meet(interval2)\n",
        "print(result2)\n",
        "interval3 = [[1, 3], [2, 4], [4, 6]]\n",
        "result3 = meet(interval3)\n",
        "print(result3)\n",
        "\n",
        "\n",
        "\n",
        "\n"
      ],
      "metadata": {
        "colab": {
          "base_uri": "https://localhost:8080/"
        },
        "id": "k1aca7RmPrqD",
        "outputId": "99abca5d-e761-4b43-eef4-23c06fb54ec9"
      },
      "execution_count": 8,
      "outputs": [
        {
          "output_type": "stream",
          "name": "stdout",
          "text": [
            "False\n",
            "True\n",
            "False\n"
          ]
        }
      ]
    }
  ],
  "metadata": {
    "colab": {
      "provenance": []
    },
    "kernelspec": {
      "display_name": "Python 3",
      "name": "python3"
    },
    "language_info": {
      "name": "python"
    }
  },
  "nbformat": 4,
  "nbformat_minor": 0
}